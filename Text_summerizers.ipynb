{
 "cells": [
  {
   "cell_type": "code",
   "execution_count": 1,
   "id": "6d277e13",
   "metadata": {},
   "outputs": [],
   "source": [
    "import datasets\n",
    "from datasets import load_dataset"
   ]
  },
  {
   "cell_type": "code",
   "execution_count": 2,
   "id": "dfc5fb03",
   "metadata": {},
   "outputs": [],
   "source": [
    "import spacy\n",
    "from spacy.lang.en.stop_words import STOP_WORDS\n",
    "\n",
    "# NLTK Imports\n",
    "from nltk.corpus import stopwords\n",
    "from nltk.tokenize import word_tokenize, sent_tokenize"
   ]
  },
  {
   "cell_type": "code",
   "execution_count": 3,
   "id": "6fd663ae",
   "metadata": {},
   "outputs": [],
   "source": [
    "from string import punctuation\n",
    "from heapq import nlargest"
   ]
  },
  {
   "cell_type": "code",
   "execution_count": 4,
   "id": "978f65c7",
   "metadata": {},
   "outputs": [
    {
     "name": "stderr",
     "output_type": "stream",
     "text": [
      "Using the latest cached version of the module from C:\\Users\\Namrata\\.cache\\huggingface\\modules\\datasets_modules\\datasets\\cnn_dailymail\\1b3c71476f6d152c31c1730e83ccb08bcf23e348233f4fcc11e182248e6bf7de (last modified on Sun Jun 11 11:02:01 2023) since it couldn't be found locally at cnn_dailymail., or remotely on the Hugging Face Hub.\n",
      "Found cached dataset cnn_dailymail (C:/Users/Namrata/.cache/huggingface/datasets/cnn_dailymail/3.0.0/3.0.0/1b3c71476f6d152c31c1730e83ccb08bcf23e348233f4fcc11e182248e6bf7de)\n"
     ]
    },
    {
     "data": {
      "application/vnd.jupyter.widget-view+json": {
       "model_id": "beedc1e93e834cd6856478ad565188ed",
       "version_major": 2,
       "version_minor": 0
      },
      "text/plain": [
       "  0%|          | 0/3 [00:00<?, ?it/s]"
      ]
     },
     "metadata": {},
     "output_type": "display_data"
    }
   ],
   "source": [
    "dataset = datasets.load_dataset('cnn_dailymail', '3.0.0')"
   ]
  },
  {
   "cell_type": "code",
   "execution_count": 5,
   "id": "2875bd4e",
   "metadata": {},
   "outputs": [],
   "source": [
    "train_dataset = dataset[\"train\"]"
   ]
  },
  {
   "cell_type": "code",
   "execution_count": 6,
   "id": "2bfadc4a",
   "metadata": {},
   "outputs": [
    {
     "name": "stdout",
     "output_type": "stream",
     "text": [
      "article\n",
      "highlights\n",
      "id\n"
     ]
    }
   ],
   "source": [
    "# Print the first few examples from the train split\n",
    "for example in train_dataset[:5]:\n",
    "    print(example)"
   ]
  },
  {
   "cell_type": "code",
   "execution_count": 7,
   "id": "b37eee4d",
   "metadata": {},
   "outputs": [
    {
     "data": {
      "text/plain": [
       "['article', 'highlights', 'id']"
      ]
     },
     "execution_count": 7,
     "metadata": {},
     "output_type": "execute_result"
    }
   ],
   "source": [
    "train_dataset.column_names"
   ]
  },
  {
   "cell_type": "code",
   "execution_count": 8,
   "id": "19094102",
   "metadata": {},
   "outputs": [
    {
     "data": {
      "text/plain": [
       "'Editor\\'s note: In our Behind the Scenes series, CNN correspondents share their experiences in covering news and analyze the stories behind the events. Here, Soledad O\\'Brien takes users inside a jail where many of the inmates are mentally ill. An inmate housed on the \"forgotten floor,\" where many mentally ill inmates are housed in Miami before trial. MIAMI, Florida (CNN) -- The ninth floor of the Miami-Dade pretrial detention facility is dubbed the \"forgotten floor.\" Here, inmates with the most severe mental illnesses are incarcerated until they\\'re ready to appear in court. Most often, they face drug charges or charges of assaulting an officer --charges that Judge Steven Leifman says are usually \"avoidable felonies.\" He says the arrests often result from confrontations with police. Mentally ill people often won\\'t do what they\\'re told when police arrive on the scene -- confrontation seems to exacerbate their illness and they become more paranoid, delusional, and less likely to follow directions, according to Leifman. So, they end up on the ninth floor severely mentally disturbed, but not getting any real help because they\\'re in jail. We toured the jail with Leifman. He is well known in Miami as an advocate for justice and the mentally ill. Even though we were not exactly welcomed with open arms by the guards, we were given permission to shoot videotape and tour the floor.  Go inside the \\'forgotten floor\\' » . At first, it\\'s hard to determine where the people are. The prisoners are wearing sleeveless robes. Imagine cutting holes for arms and feet in a heavy wool sleeping bag -- that\\'s kind of what they look like. They\\'re designed to keep the mentally ill patients from injuring themselves. That\\'s also why they have no shoes, laces or mattresses. Leifman says about one-third of all people in Miami-Dade county jails are mentally ill. So, he says, the sheer volume is overwhelming the system, and the result is what we see on the ninth floor. Of course, it is a jail, so it\\'s not supposed to be warm and comforting, but the lights glare, the cells are tiny and it\\'s loud. We see two, sometimes three men -- sometimes in the robes, sometimes naked, lying or sitting in their cells. \"I am the son of the president. You need to get me out of here!\" one man shouts at me. He is absolutely serious, convinced that help is on the way -- if only he could reach the White House. Leifman tells me that these prisoner-patients will often circulate through the system, occasionally stabilizing in a mental hospital, only to return to jail to face their charges. It\\'s brutally unjust, in his mind, and he has become a strong advocate for changing things in Miami. Over a meal later, we talk about how things got this way for mental patients. Leifman says 200 years ago people were considered \"lunatics\" and they were locked up in jails even if they had no charges against them. They were just considered unfit to be in society. Over the years, he says, there was some public outcry, and the mentally ill were moved out of jails and into hospitals. But Leifman says many of these mental hospitals were so horrible they were shut down. Where did the patients go? Nowhere. The streets. They became, in many cases, the homeless, he says. They never got treatment. Leifman says in 1955 there were more than half a million people in state mental hospitals, and today that number has been reduced 90 percent, and 40,000 to 50,000 people are in mental hospitals. The judge says he\\'s working to change this. Starting in 2008, many inmates who would otherwise have been brought to the \"forgotten floor\"  will instead be sent to a new mental health facility -- the first step on a journey toward long-term treatment, not just punishment. Leifman says it\\'s not the complete answer, but it\\'s a start. Leifman says the best part is that it\\'s a win-win solution. The patients win, the families are relieved, and the state saves money by simply not cycling these prisoners through again and again. And, for Leifman, justice is served. E-mail to a friend .'"
      ]
     },
     "execution_count": 8,
     "metadata": {},
     "output_type": "execute_result"
    }
   ],
   "source": [
    "train_dataset['article'][1]"
   ]
  },
  {
   "cell_type": "code",
   "execution_count": 9,
   "id": "d4fa8e9d",
   "metadata": {
    "scrolled": true
   },
   "outputs": [
    {
     "data": {
      "text/plain": [
       "'Mentally ill inmates in Miami are housed on the \"forgotten floor\"\\nJudge Steven Leifman says most are there as a result of \"avoidable felonies\"\\nWhile CNN tours facility, patient shouts: \"I am the son of the president\"\\nLeifman says the system is unjust and he\\'s fighting for change .'"
      ]
     },
     "execution_count": 9,
     "metadata": {},
     "output_type": "execute_result"
    }
   ],
   "source": [
    "train_dataset['highlights'][1]"
   ]
  },
  {
   "cell_type": "markdown",
   "id": "c4b9d1af",
   "metadata": {},
   "source": [
    "# Rouge Score"
   ]
  },
  {
   "cell_type": "code",
   "execution_count": 10,
   "id": "f59611d3",
   "metadata": {},
   "outputs": [],
   "source": [
    "from rouge import Rouge\n",
    "\n",
    "def calculate_rouge_score(summary, reference):\n",
    "    rouge = Rouge()\n",
    "    scores = rouge.get_scores(summary, reference)\n",
    "    return scores"
   ]
  },
  {
   "cell_type": "markdown",
   "id": "166e54c5",
   "metadata": {},
   "source": [
    "## Spacy Summarize"
   ]
  },
  {
   "cell_type": "code",
   "execution_count": 11,
   "id": "5b32a7d5",
   "metadata": {},
   "outputs": [],
   "source": [
    "def spacy_summarize(text_content, percent):\n",
    "    # Frequency Based Summarization using Spacy.\n",
    "    # Build a List of Stopwords\n",
    "\n",
    "    stop_words = list(STOP_WORDS)\n",
    "\n",
    "    # import punctuations from strings library.\n",
    "    punctuation_items = punctuation + '\\n'\n",
    "\n",
    "    # Loading en_core_web_sm in Spacy\n",
    "    nlp = spacy.load('en_core_web_sm')\n",
    "\n",
    "    # Build an NLP Object\n",
    "    nlp_object = nlp(text_content)\n",
    "\n",
    "    # Create the dictionary with key as words and value as number of times word is repeated.\n",
    "    # Scoring words by its occurrence.\n",
    "    word_frequencies = {}\n",
    "    for word in nlp_object:\n",
    "        if word.text.lower() not in stop_words:\n",
    "            if word.text.lower() not in punctuation_items:\n",
    "                if word.text not in word_frequencies.keys():\n",
    "                    word_frequencies[word.text] = 1\n",
    "                else:\n",
    "                    word_frequencies[word.text] += 1\n",
    "\n",
    "    # Finding frequency of most occurring word\n",
    "    max_frequency = max(word_frequencies.values())\n",
    "\n",
    "    # Divide Number of occurrences of all words by the max_frequency\n",
    "    for word in word_frequencies.keys():\n",
    "        word_frequencies[word] = word_frequencies[word] / max_frequency\n",
    "\n",
    "    # Save a sentence-tokenized copy of text\n",
    "    sentence_token = [sentence for sentence in nlp_object.sents]\n",
    "\n",
    "    # Create the dictionary with key as sentences and value as sum of each important word.\n",
    "    # Scoring sentences by its words.\n",
    "    sentence_scores = {}\n",
    "    for sent in sentence_token:\n",
    "        sentence = sent.text.split(\" \")\n",
    "        for word in sentence:\n",
    "            if word.lower() in word_frequencies.keys():\n",
    "                if sent not in sentence_scores.keys():\n",
    "                    sentence_scores[sent] = word_frequencies[word.lower()]\n",
    "                else:\n",
    "                    sentence_scores[sent] += word_frequencies[word.lower()]\n",
    "\n",
    "    \n",
    "    # Finding number of sentences and applying percentage on it: since we require to show most X% lines in summary.\n",
    "    select_length = int(len(sentence_token) * (int(percent) / 100))\n",
    "\n",
    "    # Using nlargest library to get the top x% weighted sentences.\n",
    "    summary = nlargest(select_length, sentence_scores, key=sentence_scores.get)\n",
    "\n",
    "    # Later joining it to get the final summarized text.\n",
    "    final_summary = [word.text for word in summary]\n",
    "    summary = ' '.join(final_summary)\n",
    "\n",
    "    \n",
    "#     score = calculate_rouge_score(summary, sum2)\n",
    "\n",
    "    # Returning NLTK Summarization Output\n",
    "    return summary\n"
   ]
  },
  {
   "cell_type": "code",
   "execution_count": 12,
   "id": "ee7c7cbe",
   "metadata": {},
   "outputs": [],
   "source": [
    "generated_summaries_for_spacy = []"
   ]
  },
  {
   "cell_type": "code",
   "execution_count": 13,
   "id": "c2531c3d",
   "metadata": {},
   "outputs": [],
   "source": [
    "for article in train_dataset['article'][:5]:\n",
    "    summary = spacy_summarize(article, 30)\n",
    "    generated_summaries_for_spacy.append(summary)"
   ]
  },
  {
   "cell_type": "code",
   "execution_count": 14,
   "id": "3669fbec",
   "metadata": {},
   "outputs": [],
   "source": [
    "# generated_summaries_for_spacy"
   ]
  },
  {
   "cell_type": "code",
   "execution_count": 16,
   "id": "47c725cf",
   "metadata": {},
   "outputs": [
    {
     "name": "stdout",
     "output_type": "stream",
     "text": [
      "[{'rouge-1': {'r': 0.6111111111111112, 'p': 0.13414634146341464, 'f': 0.21999999704800005}, 'rouge-2': {'r': 0.4864864864864865, 'p': 0.08144796380090498, 'f': 0.13953488126404665}, 'rouge-l': {'r': 0.5833333333333334, 'p': 0.12804878048780488, 'f': 0.20999999704800004}}]\n",
      "[{'rouge-1': {'r': 0.5121951219512195, 'p': 0.11602209944751381, 'f': 0.18918918617766417}, 'rouge-2': {'r': 0.2608695652173913, 'p': 0.04363636363636364, 'f': 0.0747663526848537}, 'rouge-l': {'r': 0.4634146341463415, 'p': 0.10497237569060773, 'f': 0.17117116815964617}}]\n",
      "[{'rouge-1': {'r': 0.43243243243243246, 'p': 0.08247422680412371, 'f': 0.13852813583778417}, 'rouge-2': {'r': 0.1282051282051282, 'p': 0.015723270440251572, 'f': 0.028011202535602613}, 'rouge-l': {'r': 0.43243243243243246, 'p': 0.08247422680412371, 'f': 0.13852813583778417}}]\n",
      "[{'rouge-1': {'r': 0.5416666666666666, 'p': 0.13, 'f': 0.20967741623309058}, 'rouge-2': {'r': 0.043478260869565216, 'p': 0.0078125, 'f': 0.013245030530240405}, 'rouge-l': {'r': 0.5416666666666666, 'p': 0.13, 'f': 0.20967741623309058}}]\n",
      "[{'rouge-1': {'r': 0.4, 'p': 0.05982905982905983, 'f': 0.10408921706720477}, 'rouge-2': {'r': 0.07692307692307693, 'p': 0.007371007371007371, 'f': 0.013452913202256419}, 'rouge-l': {'r': 0.4, 'p': 0.05982905982905983, 'f': 0.10408921706720477}}]\n"
     ]
    }
   ],
   "source": [
    "for summ, ref in zip(generated_summaries_for_spacy, train_dataset['highlights'][:5]):\n",
    "    rouge_score = calculate_rouge_score(summ, ref)\n",
    "    print(rouge_score)"
   ]
  },
  {
   "cell_type": "markdown",
   "id": "5f2aefe6",
   "metadata": {},
   "source": [
    "# Lsa Summarization"
   ]
  },
  {
   "cell_type": "code",
   "execution_count": 19,
   "id": "becbae42",
   "metadata": {},
   "outputs": [],
   "source": [
    "from sumy.parsers.plaintext import PlaintextParser\n",
    "from sumy.nlp.tokenizers import Tokenizer\n",
    "from sumy.summarizers.lsa import LsaSummarizer\n",
    "from sumy.summarizers.luhn import LuhnSummarizer\n",
    "from sumy.summarizers.text_rank import TextRankSummarizer\n",
    "from sumy.nlp.stemmers import Stemmer\n",
    "from sumy.utils import get_stop_words"
   ]
  },
  {
   "cell_type": "code",
   "execution_count": 20,
   "id": "437bdbd4",
   "metadata": {},
   "outputs": [],
   "source": [
    "def sumy_lsa_summarize(text_content, percent):\n",
    "    # Latent Semantic Analysis is a unsupervised learning algorithm that can be used for extractive text summarization.\n",
    "    # Initializing the parser\n",
    "\n",
    "    parser = PlaintextParser.from_string(text_content, Tokenizer(\"english\"))\n",
    "    # Initialize the stemmer\n",
    "    stemmer = Stemmer('english')\n",
    "    # Initializing the summarizer\n",
    "    summarizer = LsaSummarizer(stemmer)\n",
    "    summarizer.stop_words = get_stop_words('english')\n",
    "\n",
    "    # Finding number of sentences and applying percentage on it: since sumy requires number of lines\n",
    "    sentence_token = sent_tokenize(text_content)\n",
    "    select_length = int(len(sentence_token) * (int(percent) / 100))\n",
    "\n",
    "    # Evaluating and saving the Summary\n",
    "    summary = \"\"\n",
    "    for sentence in summarizer(parser.document, sentences_count=select_length):\n",
    "        summary += str(sentence)\n",
    "\n",
    "    \n",
    "    # Returning NLTK Summarization Output\n",
    "    return summary"
   ]
  },
  {
   "cell_type": "code",
   "execution_count": 21,
   "id": "c682921d",
   "metadata": {},
   "outputs": [],
   "source": [
    "generated_summaries_for_lsa = []\n",
    "for article in train_dataset['article'][:5]:\n",
    "    summary = sumy_lsa_summarize(article, 30)\n",
    "    generated_summaries_for_lsa.append(summary)"
   ]
  },
  {
   "cell_type": "code",
   "execution_count": 22,
   "id": "abce94e8",
   "metadata": {},
   "outputs": [
    {
     "name": "stdout",
     "output_type": "stream",
     "text": [
      "[{'rouge-1': {'r': 0.5, 'p': 0.11764705882352941, 'f': 0.19047618739229027}, 'rouge-2': {'r': 0.32432432432432434, 'p': 0.05714285714285714, 'f': 0.09716598935566889}, 'rouge-l': {'r': 0.4444444444444444, 'p': 0.10457516339869281, 'f': 0.16931216622826914}}]\n",
      "[{'rouge-1': {'r': 0.4634146341463415, 'p': 0.09405940594059406, 'f': 0.15637859801791737}, 'rouge-2': {'r': 0.10869565217391304, 'p': 0.01718213058419244, 'f': 0.029673588147117798}, 'rouge-l': {'r': 0.3902439024390244, 'p': 0.07920792079207921, 'f': 0.13168723999322604}}]\n",
      "[{'rouge-1': {'r': 0.35135135135135137, 'p': 0.06220095693779904, 'f': 0.10569105435488142}, 'rouge-2': {'r': 0.07692307692307693, 'p': 0.009287925696594427, 'f': 0.01657458371279898}, 'rouge-l': {'r': 0.35135135135135137, 'p': 0.06220095693779904, 'f': 0.10569105435488142}}]\n",
      "[{'rouge-1': {'r': 0.5, 'p': 0.1111111111111111, 'f': 0.18181817884297521}, 'rouge-2': {'r': 0.043478260869565216, 'p': 0.006802721088435374, 'f': 0.011764703542561018}, 'rouge-l': {'r': 0.5, 'p': 0.1111111111111111, 'f': 0.18181817884297521}}]\n",
      "[{'rouge-1': {'r': 0.45714285714285713, 'p': 0.08, 'f': 0.13617021023087375}, 'rouge-2': {'r': 0.10256410256410256, 'p': 0.012738853503184714, 'f': 0.022662887552905662}, 'rouge-l': {'r': 0.45714285714285713, 'p': 0.08, 'f': 0.13617021023087375}}]\n"
     ]
    }
   ],
   "source": [
    "for summ, ref in zip(generated_summaries_for_lsa, train_dataset['highlights'][:5]):\n",
    "    rouge_score = calculate_rouge_score(summ, ref)\n",
    "    print(rouge_score)"
   ]
  },
  {
   "cell_type": "markdown",
   "id": "f0928295",
   "metadata": {},
   "source": [
    "# nltk summarize"
   ]
  },
  {
   "cell_type": "code",
   "execution_count": 23,
   "id": "d4ceb470",
   "metadata": {},
   "outputs": [],
   "source": [
    "def nltk_summarize(text_content, percent):\n",
    "    # Frequency Based Summarization using NLTK\n",
    "    # Store a tokenized copy of text, using NLTK's recommended word tokenizer\n",
    "    tokens = word_tokenize(text_content)\n",
    "\n",
    "    # Import the stop words from NLTK toolkit\n",
    "    stop_words = stopwords.words('english')\n",
    "\n",
    "    # import punctuations from strings library.\n",
    "    punctuation_items = punctuation + '\\n'\n",
    "\n",
    "    # Create the dictionary with key as words and value as number of times word is repeated.\n",
    "    # Scoring words by its occurrence.\n",
    "    word_frequencies = {}\n",
    "    for word in tokens:\n",
    "        if word.lower() not in stop_words:\n",
    "            if word.lower() not in punctuation_items:\n",
    "                if word not in word_frequencies.keys():\n",
    "                    word_frequencies[word] = 1\n",
    "                else:\n",
    "                    word_frequencies[word] += 1\n",
    "\n",
    "    # Finding frequency of most occurring word\n",
    "    max_frequency = max(word_frequencies.values())\n",
    "\n",
    "    # Divide Number of occurrences of all words by the max_frequency\n",
    "    for word in word_frequencies.keys():\n",
    "        word_frequencies[word] = word_frequencies[word] / max_frequency\n",
    "\n",
    "    # Save a sentence-tokenized copy of text\n",
    "    sentence_token = sent_tokenize(text_content)\n",
    "\n",
    "    # Create the dictionary with key as sentences and value as sum of each important word.\n",
    "    # Scoring sentences by its words.\n",
    "    sentence_scores = {}\n",
    "    for sent in sentence_token:\n",
    "        sentence = sent.split(\" \")\n",
    "        for word in sentence:\n",
    "            if word.lower() in word_frequencies.keys():\n",
    "                if sent not in sentence_scores.keys():\n",
    "                    sentence_scores[sent] = word_frequencies[word.lower()]\n",
    "                else:\n",
    "                    sentence_scores[sent] += word_frequencies[word.lower()]\n",
    "\n",
    "    # Finding number of sentences and applying percentage on it: since we require to show most X% lines in summary.\n",
    "    select_length = int(len(sentence_token) * (int(percent) / 100))\n",
    "\n",
    "    # Using nlargest library to get the top x% weighted sentences.\n",
    "    summary = nlargest(select_length, sentence_scores, key=sentence_scores.get)\n",
    "\n",
    "    # Later joining it to get the final summarized text.\n",
    "    final_summary = [word for word in summary]\n",
    "    summary = ' '.join(final_summary)\n",
    "\n",
    "\n",
    "    # Returning NLTK Summarization Output\n",
    "    return summary\n"
   ]
  },
  {
   "cell_type": "code",
   "execution_count": 25,
   "id": "0a6f8431",
   "metadata": {},
   "outputs": [],
   "source": [
    "generated_summaries_for_nltk = []\n",
    "for article in train_dataset['article'][:5]:\n",
    "    summary = nltk_summarize(article, 30)\n",
    "    generated_summaries_for_nltk.append(summary)"
   ]
  },
  {
   "cell_type": "code",
   "execution_count": 27,
   "id": "9cdcceeb",
   "metadata": {},
   "outputs": [
    {
     "name": "stdout",
     "output_type": "stream",
     "text": [
      "[{'rouge-1': {'r': 0.6111111111111112, 'p': 0.13836477987421383, 'f': 0.22564102263037478}, 'rouge-2': {'r': 0.4864864864864865, 'p': 0.08144796380090498, 'f': 0.13953488126404665}, 'rouge-l': {'r': 0.5833333333333334, 'p': 0.1320754716981132, 'f': 0.21538461237396456}}]\n",
      "[{'rouge-1': {'r': 0.5365853658536586, 'p': 0.11518324607329843, 'f': 0.1896551695039388}, 'rouge-2': {'r': 0.2826086956521739, 'p': 0.04421768707482993, 'f': 0.0764705858955018}, 'rouge-l': {'r': 0.4634146341463415, 'p': 0.09947643979057591, 'f': 0.16379310053842155}}]\n",
      "[{'rouge-1': {'r': 0.43243243243243246, 'p': 0.08791208791208792, 'f': 0.14611871865307233}, 'rouge-2': {'r': 0.10256410256410256, 'p': 0.012944983818770227, 'f': 0.02298850375693636}, 'rouge-l': {'r': 0.43243243243243246, 'p': 0.08791208791208792, 'f': 0.14611871865307233}}]\n",
      "[{'rouge-1': {'r': 0.5, 'p': 0.12244897959183673, 'f': 0.19672130831496912}, 'rouge-2': {'r': 0.043478260869565216, 'p': 0.008064516129032258, 'f': 0.01360543953723037}, 'rouge-l': {'r': 0.5, 'p': 0.12244897959183673, 'f': 0.19672130831496912}}]\n",
      "[{'rouge-1': {'r': 0.4, 'p': 0.06334841628959276, 'f': 0.10937499763946539}, 'rouge-2': {'r': 0.07692307692307693, 'p': 0.0079155672823219, 'f': 0.014354065293720583}, 'rouge-l': {'r': 0.4, 'p': 0.06334841628959276, 'f': 0.10937499763946539}}]\n"
     ]
    }
   ],
   "source": [
    "for summ, ref in zip(generated_summaries_for_nltk, train_dataset['highlights'][:5]):\n",
    "    rouge_score = calculate_rouge_score(summ, ref)\n",
    "    print(rouge_score)"
   ]
  },
  {
   "cell_type": "markdown",
   "id": "584988f1",
   "metadata": {},
   "source": [
    "# gensim"
   ]
  },
  {
   "cell_type": "code",
   "execution_count": 31,
   "id": "297cb198",
   "metadata": {},
   "outputs": [],
   "source": [
    "from gensim.summarization.summarizer import summarize"
   ]
  },
  {
   "cell_type": "code",
   "execution_count": 32,
   "id": "f8d576eb",
   "metadata": {},
   "outputs": [],
   "source": [
    "def gensim_summarize(text_content, percent):\n",
    "    # TextRank Summarization using Gensim Library.\n",
    "    # Split is false, gensim return strings joined by \"\\n\". if true, gensim will return list\n",
    "    summary = summarize(text_content, ratio=(int(percent) / 100), split=False).replace(\"\\n\", \" \")\n",
    "    \n",
    "    # Returning NLTK Summarization Output\n",
    "    return summary"
   ]
  },
  {
   "cell_type": "code",
   "execution_count": 33,
   "id": "a40596d6",
   "metadata": {},
   "outputs": [],
   "source": [
    "generated_summaries_for_gensim = []\n",
    "for article in train_dataset['article'][:5]:\n",
    "    summary = gensim_summarize(article, 30)\n",
    "    generated_summaries_for_gensim.append(summary)"
   ]
  },
  {
   "cell_type": "code",
   "execution_count": 35,
   "id": "7940f908",
   "metadata": {},
   "outputs": [
    {
     "name": "stdout",
     "output_type": "stream",
     "text": [
      "[{'rouge-1': {'r': 0.8888888888888888, 'p': 0.18604651162790697, 'f': 0.3076923048298817}, 'rouge-2': {'r': 0.7567567567567568, 'p': 0.11914893617021277, 'f': 0.2058823505906683}, 'rouge-l': {'r': 0.8888888888888888, 'p': 0.18604651162790697, 'f': 0.3076923048298817}}]\n",
      "[{'rouge-1': {'r': 0.4878048780487805, 'p': 0.12269938650306748, 'f': 0.19607842816080356}, 'rouge-2': {'r': 0.1956521739130435, 'p': 0.037815126050420166, 'f': 0.06338027897540183}, 'rouge-l': {'r': 0.4878048780487805, 'p': 0.12269938650306748, 'f': 0.19607842816080356}}]\n",
      "[{'rouge-1': {'r': 0.4864864864864865, 'p': 0.1016949152542373, 'f': 0.16822429620534549}, 'rouge-2': {'r': 0.15384615384615385, 'p': 0.02142857142857143, 'f': 0.037617552712728965}, 'rouge-l': {'r': 0.4594594594594595, 'p': 0.096045197740113, 'f': 0.15887850181282212}}]\n",
      "[{'rouge-1': {'r': 0.5, 'p': 0.15, 'f': 0.23076922721893492}, 'rouge-2': {'r': 0.043478260869565216, 'p': 0.008849557522123894, 'f': 0.014705879542604341}, 'rouge-l': {'r': 0.5, 'p': 0.15, 'f': 0.23076922721893492}}]\n",
      "[{'rouge-1': {'r': 0.4857142857142857, 'p': 0.08900523560209424, 'f': 0.15044247525843843}, 'rouge-2': {'r': 0.1282051282051282, 'p': 0.016181229773462782, 'f': 0.028735630193717932}, 'rouge-l': {'r': 0.45714285714285713, 'p': 0.08376963350785341, 'f': 0.14159291773631455}}]\n"
     ]
    }
   ],
   "source": [
    "for summ, ref in zip(generated_summaries_for_gensim, train_dataset['highlights'][:5]):\n",
    "    rouge_score = calculate_rouge_score(summ, ref)\n",
    "    print(rouge_score)"
   ]
  },
  {
   "cell_type": "markdown",
   "id": "775aa468",
   "metadata": {},
   "source": [
    "# Luhn summarization algorithm"
   ]
  },
  {
   "cell_type": "code",
   "execution_count": 36,
   "id": "7c48b9e6",
   "metadata": {},
   "outputs": [],
   "source": [
    "def sumy_luhn_summarize(text_content, percent):\n",
    "\n",
    "    # A naive approach based on TF-IDF and looking at the “window size” of non-important words between words of high\n",
    "    # importance. It also assigns higher weights to sentences occurring near the beginning of a document.\n",
    "    # Initializing the parser\n",
    "    parser = PlaintextParser.from_string(text_content, Tokenizer(\"english\"))\n",
    "    # Initialize the stemmer\n",
    "    stemmer = Stemmer('english')\n",
    "    # Initializing the summarizer\n",
    "    summarizer = LuhnSummarizer(stemmer)\n",
    "    summarizer.stop_words = get_stop_words('english')\n",
    "\n",
    "    # Finding number of sentences and applying percentage on it: since sumy requires number of lines\n",
    "    sentence_token = sent_tokenize(text_content)\n",
    "    select_length = int(len(sentence_token) * (int(percent) / 100))\n",
    "\n",
    "    # Evaluating and saving the Summary\n",
    "    summary = \"\"\n",
    "    for sentence in summarizer(parser.document, sentences_count=select_length):\n",
    "        summary += str(sentence)\n",
    "\n",
    "    # Returning NLTK Summarization Output\n",
    "    return summary\n"
   ]
  },
  {
   "cell_type": "code",
   "execution_count": 37,
   "id": "3372150f",
   "metadata": {},
   "outputs": [],
   "source": [
    "generated_summaries_for_luhn = []\n",
    "for article in train_dataset['article'][:5]:\n",
    "    summary = sumy_luhn_summarize(article, 30)\n",
    "    generated_summaries_for_luhn.append(summary)"
   ]
  },
  {
   "cell_type": "code",
   "execution_count": 38,
   "id": "a384c4fe",
   "metadata": {},
   "outputs": [
    {
     "name": "stdout",
     "output_type": "stream",
     "text": [
      "[{'rouge-1': {'r': 0.8888888888888888, 'p': 0.22377622377622378, 'f': 0.357541896227958}, 'rouge-2': {'r': 0.7567567567567568, 'p': 0.14507772020725387, 'f': 0.24347825816975427}, 'rouge-l': {'r': 0.8888888888888888, 'p': 0.22377622377622378, 'f': 0.357541896227958}}]\n",
      "[{'rouge-1': {'r': 0.5121951219512195, 'p': 0.12, 'f': 0.19444444136874145}, 'rouge-2': {'r': 0.1956521739130435, 'p': 0.033962264150943396, 'f': 0.05787781098417108}, 'rouge-l': {'r': 0.4878048780487805, 'p': 0.11428571428571428, 'f': 0.1851851821094822}}]\n",
      "[{'rouge-1': {'r': 0.4594594594594595, 'p': 0.10365853658536585, 'f': 0.16915422585183537}, 'rouge-2': {'r': 0.15384615384615385, 'p': 0.02158273381294964, 'f': 0.037854887432057366}, 'rouge-l': {'r': 0.4594594594594595, 'p': 0.10365853658536585, 'f': 0.16915422585183537}}]\n",
      "[{'rouge-1': {'r': 0.5, 'p': 0.1188118811881188, 'f': 0.19199999689728003}, 'rouge-2': {'r': 0.043478260869565216, 'p': 0.007518796992481203, 'f': 0.01282051030654224}, 'rouge-l': {'r': 0.5, 'p': 0.1188118811881188, 'f': 0.19199999689728003}}]\n",
      "[{'rouge-1': {'r': 0.45714285714285713, 'p': 0.08040201005025126, 'f': 0.13675213420812338}, 'rouge-2': {'r': 0.1282051282051282, 'p': 0.015527950310559006, 'f': 0.027700829097689686}, 'rouge-l': {'r': 0.42857142857142855, 'p': 0.07537688442211055, 'f': 0.12820512566111478}}]\n"
     ]
    }
   ],
   "source": [
    "for summ, ref in zip(generated_summaries_for_luhn, train_dataset['highlights'][:5]):\n",
    "    rouge_score = calculate_rouge_score(summ, ref)\n",
    "    print(rouge_score)"
   ]
  },
  {
   "cell_type": "code",
   "execution_count": null,
   "id": "a18da75f",
   "metadata": {},
   "outputs": [],
   "source": []
  }
 ],
 "metadata": {
  "kernelspec": {
   "display_name": "Python 3 (ipykernel)",
   "language": "python",
   "name": "python3"
  },
  "language_info": {
   "codemirror_mode": {
    "name": "ipython",
    "version": 3
   },
   "file_extension": ".py",
   "mimetype": "text/x-python",
   "name": "python",
   "nbconvert_exporter": "python",
   "pygments_lexer": "ipython3",
   "version": "3.8.16"
  }
 },
 "nbformat": 4,
 "nbformat_minor": 5
}
